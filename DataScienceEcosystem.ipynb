{
 "cells": [
  {
   "cell_type": "markdown",
   "id": "548b5f54-2261-4abb-9b58-d8faee07811f",
   "metadata": {},
   "source": [
    "# Data Science Tools and Ecosystem"
   ]
  },
  {
   "cell_type": "markdown",
   "id": "0e15b3d9-01c9-4866-b405-ed0a6be0d4b3",
   "metadata": {},
   "source": [
    "In this notebook we will see a summary about some topics that we have seen in Data Science Tools and Ecosystem:"
   ]
  },
  {
   "cell_type": "markdown",
   "id": "32ef8908-8b11-486a-9459-6f949f421aa7",
   "metadata": {},
   "source": [
    "**Objectives:**\n",
    "\n",
    "- List popular languages for Data Science.\n",
    "- List popular libraries in Data Science.\n",
    "- Arithmetic expressions in Python.\n"
   ]
  },
  {
   "cell_type": "markdown",
   "id": "032f2316-9efb-4e87-8f05-48d029b9640e",
   "metadata": {},
   "source": [
    "These are 3 commonly Data Science languages:\n",
    "\n",
    "1. Python\n",
    "2. R\n",
    "3. Java"
   ]
  },
  {
   "cell_type": "markdown",
   "id": "2b26ea64-cc39-4e23-b375-cd4671aff971",
   "metadata": {},
   "source": [
    "Also, these are some popular libraries used in Data Science:\n",
    "\n",
    "1. Pandas\n",
    "2. NumPy\n",
    "3. Scikit-learn"
   ]
  },
  {
   "cell_type": "markdown",
   "id": "94631e92-8665-4835-a314-7bded717f2cf",
   "metadata": {},
   "source": [
    "| Data Science Tools    |\n",
    "|-----------------------|\n",
    "| Jupyter Notebook      |\n",
    "| VS Code with Python   |\n",
    "| Rstudio   |"
   ]
  },
  {
   "cell_type": "markdown",
   "id": "5b9d28ea-6081-43b0-b1b5-be02f326c2b3",
   "metadata": {},
   "source": [
    "### Below are a few examples of evaluating arithmetic expressions in Python"
   ]
  },
  {
   "cell_type": "code",
   "execution_count": 1,
   "id": "9b1bc249-6a1a-4964-bb58-c690cda4c944",
   "metadata": {},
   "outputs": [
    {
     "data": {
      "text/plain": [
       "17"
      ]
     },
     "execution_count": 1,
     "metadata": {},
     "output_type": "execute_result"
    }
   ],
   "source": [
    "# This is a simple arithmetic expression to multiply then add integers.\n",
    "(3*4) + 5"
   ]
  },
  {
   "cell_type": "code",
   "execution_count": 5,
   "id": "f212ac85-459a-442c-a75c-f249f9c7b3ff",
   "metadata": {},
   "outputs": [
    {
     "name": "stdout",
     "output_type": "stream",
     "text": [
      "200  minutos son  3.3333333333333335  horas. \n"
     ]
    }
   ],
   "source": [
    "# This will convert 200 minutes to hours by diving by 60\n",
    "def convertir_minutos_horas(minutos):\n",
    "    return print(minutos, ' minutos son ', minutos/60, ' horas. ')\n",
    "convertir_minutos_horas(200)"
   ]
  },
  {
   "cell_type": "markdown",
   "id": "d0748a3c-0162-48c2-a098-b0949d4dcb18",
   "metadata": {},
   "source": [
    "## Author\n",
    "Diego Gerardo Casados González"
   ]
  },
  {
   "cell_type": "code",
   "execution_count": null,
   "id": "10940ae2-c373-4fae-baea-6f4684389b2d",
   "metadata": {},
   "outputs": [],
   "source": []
  }
 ],
 "metadata": {
  "kernelspec": {
   "display_name": "Python 3 (ipykernel)",
   "language": "python",
   "name": "python3"
  },
  "language_info": {
   "codemirror_mode": {
    "name": "ipython",
    "version": 3
   },
   "file_extension": ".py",
   "mimetype": "text/x-python",
   "name": "python",
   "nbconvert_exporter": "python",
   "pygments_lexer": "ipython3",
   "version": "3.9.12"
  }
 },
 "nbformat": 4,
 "nbformat_minor": 5
}
